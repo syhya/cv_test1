{
 "cells": [
  {
   "cell_type": "code",
   "execution_count": 3,
   "metadata": {
    "scrolled": true
   },
   "outputs": [
    {
     "name": "stderr",
     "output_type": "stream",
     "text": [
      "Using TensorFlow backend.\n"
     ]
    }
   ],
   "source": [
    "#导入需要的API\n",
    "import numpy\n",
    "from keras import backend as K\n",
    "from keras.utils import np_utils\n",
    "from keras.layers import Dense, Flatten, Dropout\n",
    "from keras.layers.convolutional import Conv2D, MaxPooling2D\n",
    "from keras.models import Sequential\n",
    "import matplotlib.pyplot as plt\n",
    "from keras.datasets import mnist\n",
    "from keras.layers.core import Activation"
   ]
  },
  {
   "cell_type": "code",
   "execution_count": 4,
   "metadata": {},
   "outputs": [],
   "source": [
    "#直接输出图像\n",
    "%matplotlib inline"
   ]
  },
  {
   "cell_type": "code",
   "execution_count": 5,
   "metadata": {},
   "outputs": [],
   "source": [
    "K.set_image_data_format('channels_last')\n",
    "#初始化随机数生成器为恒定的种子值，以使结果具有可重复性\n",
    "numpy.random.seed(0)"
   ]
  },
  {
   "cell_type": "code",
   "execution_count": 6,
   "metadata": {},
   "outputs": [
    {
     "data": {
      "image/png": "[encoded data removed]",
      "text/plain": [
       "<Figure size 432x288 with 4 Axes>"
      ]
     },
     "metadata": {},
     "output_type": "display_data"
    }
   ],
   "source": [
    "# 加载MNIST数据集，数据集以mnist.pkl.gz文件形式自动下载到用户的目录中\n",
    "(XTrain, yTrain), (XTest, yTest) = mnist.load_data()\n",
    "# 将图片设为灰度图像\n",
    "plt.subplot(221)\n",
    "plt.imshow(XTrain[1], cmap=plt.get_cmap('gray'))\n",
    "plt.subplot(222)\n",
    "plt.imshow(XTrain[2], cmap=plt.get_cmap('gray'))\n",
    "plt.subplot(223)\n",
    "plt.imshow(XTrain[3], cmap=plt.get_cmap('gray'))\n",
    "plt.subplot(224)\n",
    "plt.imshow(XTrain[4], cmap=plt.get_cmap('gray'))\n",
    "# 运行以上代码得到示例图形\n",
    "plt.show()"
   ]
  },
  {
   "cell_type": "code",
   "execution_count": 7,
   "metadata": {},
   "outputs": [],
   "source": [
    "# 导入 sequential，对Keras序贯层进行堆叠处理，以便每个层的输出传输到下一层的过程中不需定义其他数据\n",
    "model = Sequential()"
   ]
  },
  {
   "cell_type": "code",
   "execution_count": 8,
   "metadata": {},
   "outputs": [],
   "source": [
    "# 为了提高算法的效率和收敛性，基于最大像素225对数据进行归一化处理，将所有像素除以225以将输入变为0~1之间的数值\n",
    "XTrain = XTrain / 255\n",
    "XTest = XTest / 255"
   ]
  },
  {
   "cell_type": "code",
   "execution_count": 9,
   "metadata": {
    "scrolled": true
   },
   "outputs": [
    {
     "name": "stdout",
     "output_type": "stream",
     "text": [
      "Number of training examples = 60000\n",
      "Number of classes = 10\n",
      "Dimension of images = 28 x 28  \n",
      "The number of occurrences of each class in the dataset = {0: 5923, 1: 6742, 2: 5958, 3: 6131, 4: 5842, 5: 5421, 6: 5918, 7: 6265, 8: 5851, 9: 5949}  \n",
      "\n"
     ]
    }
   ],
   "source": [
    "# 根据数据选择合适的算法并得到所需的准确率指标。\n",
    "#如果数据与类别的分布比较均衡，则简单的使用准确率\n",
    "#如果数据与类别分布不均衡，那么将无法使用准确率，因为其结果会产生误导，这时候就是用另一种指标\n",
    "print(\"Number of training examples = %i\" % XTrain.shape[0])\n",
    "print(\"Number of classes = %i\" % len(numpy.unique(yTrain)))\n",
    "print(\"Dimension of images = {:d} x {:d}  \".format(XTrain[1].shape[0], XTrain[1].shape[1]))\n",
    "unique, count = numpy.unique(yTrain, return_counts=True)\n",
    "print(\"The number of occurrences of each class in the dataset = %s \" % dict(zip(unique, count)), \"\\n\")"
   ]
  },
  {
   "cell_type": "code",
   "execution_count": 10,
   "metadata": {},
   "outputs": [],
   "source": [
    "#以独热编码的形式输出结果，因此。从0~9会有10个类，即每个数字为一个类\n",
    "XTrain = XTrain.reshape(XTrain.shape[0], 28, 28, 1).astype('float32')\n",
    "XTest = XTest.reshape(XTest.shape[0], 28, 28, 1).astype('float32')\n",
    "yTrain = np_utils.to_categorical(yTrain)\n",
    "yTest = np_utils.to_categorical(yTest)"
   ]
  },
  {
   "cell_type": "code",
   "execution_count": 11,
   "metadata": {},
   "outputs": [
    {
     "name": "stdout",
     "output_type": "stream",
     "text": [
      "WARNING:tensorflow:From C:\\Users\\92566\\Anaconda3\\lib\\site-packages\\tensorflow_core\\python\\ops\\resource_variable_ops.py:1630: calling BaseResourceVariable.__init__ (from tensorflow.python.ops.resource_variable_ops) with constraint is deprecated and will be removed in a future version.\n",
      "Instructions for updating:\n",
      "If using Keras pass *_constraint arguments to layers.\n",
      "WARNING:tensorflow:From C:\\Users\\92566\\Anaconda3\\lib\\site-packages\\keras\\backend\\tensorflow_backend.py:4070: The name tf.nn.max_pool is deprecated. Please use tf.nn.max_pool2d instead.\n",
      "\n"
     ]
    }
   ],
   "source": [
    "# 用最简单的架构实现CNN的第一层。\n",
    "#对于序贯模型，对层进行堆叠，并在第一层，也就是卷积层Conv2D（）中指定图像的输入维度、特征映射数量、输入形状和激活函数（rule)，然后添加内核维度为2X2的最大池化层：\n",
    "model.add(Conv2D(40, kernel_size=5, padding=\"same\", input_shape=(28, 28, 1), activation='relu'))\n",
    "model.add(Conv2D(50, kernel_size=5, padding=\"valid\", activation='relu'))\n",
    "model.add(MaxPooling2D(pool_size=(2, 2), strides=(2, 2)))\n",
    "model.add(Dropout(0.2))"
   ]
  },
  {
   "cell_type": "code",
   "execution_count": 12,
   "metadata": {},
   "outputs": [],
   "source": [
    "#添加一个平展层Flatten()，用来接收CNN的输出并将其平展,将平展后的数据作为稠密层的输入，进而传递到输出层\n",
    "model.add(Flatten())\n",
    "model.add(Dense(100))\n",
    "model.add(Activation(\"relu\"))\n",
    "model.add(Dropout(0.2))\n",
    "model.add(Dense(10))\n",
    "#在输出层使用softmax输出多类分类的预测概率向量\n",
    "model.add(Activation(\"softmax\"))"
   ]
  },
  {
   "cell_type": "code",
   "execution_count": 13,
   "metadata": {
    "scrolled": true
   },
   "outputs": [
    {
     "name": "stdout",
     "output_type": "stream",
     "text": [
      "WARNING:tensorflow:From C:\\Users\\92566\\Anaconda3\\lib\\site-packages\\keras\\backend\\tensorflow_backend.py:422: The name tf.global_variables is deprecated. Please use tf.compat.v1.global_variables instead.\n",
      "\n",
      "Train on 48000 samples, validate on 12000 samples\n",
      "Epoch 1/32\n",
      "48000/48000 [==============================] - 234s 5ms/step - loss: 0.2461 - accuracy: 0.9254 - val_loss: 0.0618 - val_accuracy: 0.9814\n",
      "Epoch 2/32\n",
      "48000/48000 [==============================] - 253s 5ms/step - loss: 0.0654 - accuracy: 0.9809 - val_loss: 0.0510 - val_accuracy: 0.9841\n",
      "Epoch 3/32\n",
      "48000/48000 [==============================] - 236s 5ms/step - loss: 0.0447 - accuracy: 0.9860 - val_loss: 0.0404 - val_accuracy: 0.9883\n",
      "Epoch 4/32\n",
      "48000/48000 [==============================] - 250s 5ms/step - loss: 0.0351 - accuracy: 0.9889 - val_loss: 0.0357 - val_accuracy: 0.9902\n",
      "Epoch 5/32\n",
      "48000/48000 [==============================] - 228s 5ms/step - loss: 0.0262 - accuracy: 0.9917 - val_loss: 0.0348 - val_accuracy: 0.9903\n",
      "Epoch 6/32\n",
      "48000/48000 [==============================] - 215s 4ms/step - loss: 0.0221 - accuracy: 0.9933 - val_loss: 0.0350 - val_accuracy: 0.9901\n",
      "Epoch 7/32\n",
      "48000/48000 [==============================] - 222s 5ms/step - loss: 0.0174 - accuracy: 0.9943 - val_loss: 0.0319 - val_accuracy: 0.9907\n",
      "Epoch 8/32\n",
      "48000/48000 [==============================] - 208s 4ms/step - loss: 0.0162 - accuracy: 0.9946 - val_loss: 0.0403 - val_accuracy: 0.9895\n",
      "Epoch 9/32\n",
      "48000/48000 [==============================] - 209s 4ms/step - loss: 0.0148 - accuracy: 0.9952 - val_loss: 0.0363 - val_accuracy: 0.9911\n",
      "Epoch 10/32\n",
      "48000/48000 [==============================] - 244s 5ms/step - loss: 0.0130 - accuracy: 0.9955 - val_loss: 0.0345 - val_accuracy: 0.9911\n",
      "Epoch 11/32\n",
      "48000/48000 [==============================] - 253s 5ms/step - loss: 0.0114 - accuracy: 0.9964 - val_loss: 0.0359 - val_accuracy: 0.9912\n",
      "Epoch 12/32\n",
      "48000/48000 [==============================] - 244s 5ms/step - loss: 0.0113 - accuracy: 0.9961 - val_loss: 0.0368 - val_accuracy: 0.9911\n",
      "Epoch 13/32\n",
      "48000/48000 [==============================] - 276s 6ms/step - loss: 0.0081 - accuracy: 0.9973 - val_loss: 0.0409 - val_accuracy: 0.9912\n",
      "Epoch 14/32\n",
      "48000/48000 [==============================] - 267s 6ms/step - loss: 0.0073 - accuracy: 0.9976 - val_loss: 0.0403 - val_accuracy: 0.9916\n",
      "Epoch 15/32\n",
      "48000/48000 [==============================] - 252s 5ms/step - loss: 0.0096 - accuracy: 0.9966 - val_loss: 0.0427 - val_accuracy: 0.9901\n",
      "Epoch 16/32\n",
      "48000/48000 [==============================] - 219s 5ms/step - loss: 0.0082 - accuracy: 0.9974 - val_loss: 0.0426 - val_accuracy: 0.9915\n",
      "Epoch 17/32\n",
      "48000/48000 [==============================] - 232s 5ms/step - loss: 0.0082 - accuracy: 0.9972 - val_loss: 0.0425 - val_accuracy: 0.9898\n",
      "Epoch 18/32\n",
      "48000/48000 [==============================] - 244s 5ms/step - loss: 0.0080 - accuracy: 0.9975 - val_loss: 0.0451 - val_accuracy: 0.9902\n",
      "Epoch 19/32\n",
      "48000/48000 [==============================] - 256s 5ms/step - loss: 0.0074 - accuracy: 0.9977 - val_loss: 0.0367 - val_accuracy: 0.9917\n",
      "Epoch 20/32\n",
      "48000/48000 [==============================] - 236s 5ms/step - loss: 0.0061 - accuracy: 0.9979 - val_loss: 0.0370 - val_accuracy: 0.9918\n",
      "Epoch 21/32\n",
      "48000/48000 [==============================] - 229s 5ms/step - loss: 0.0057 - accuracy: 0.9979 - val_loss: 0.0454 - val_accuracy: 0.9908\n",
      "Epoch 22/32\n",
      "48000/48000 [==============================] - 209s 4ms/step - loss: 0.0054 - accuracy: 0.9983 - val_loss: 0.0520 - val_accuracy: 0.9904\n",
      "Epoch 23/32\n",
      "48000/48000 [==============================] - 209s 4ms/step - loss: 0.0060 - accuracy: 0.9980 - val_loss: 0.0475 - val_accuracy: 0.9902\n",
      "Epoch 24/32\n",
      "48000/48000 [==============================] - 209s 4ms/step - loss: 0.0055 - accuracy: 0.9981 - val_loss: 0.0489 - val_accuracy: 0.9912\n",
      "Epoch 25/32\n",
      "48000/48000 [==============================] - 229s 5ms/step - loss: 0.0052 - accuracy: 0.9983 - val_loss: 0.0453 - val_accuracy: 0.9911\n",
      "Epoch 26/32\n",
      "48000/48000 [==============================] - 242s 5ms/step - loss: 0.0046 - accuracy: 0.9986 - val_loss: 0.0504 - val_accuracy: 0.9915\n",
      "Epoch 27/32\n",
      "48000/48000 [==============================] - 211s 4ms/step - loss: 0.0063 - accuracy: 0.9980 - val_loss: 0.0457 - val_accuracy: 0.9918\n",
      "Epoch 28/32\n",
      "48000/48000 [==============================] - 220s 5ms/step - loss: 0.0041 - accuracy: 0.9985 - val_loss: 0.0507 - val_accuracy: 0.9918\n",
      "Epoch 29/32\n",
      "48000/48000 [==============================] - 208s 4ms/step - loss: 0.0051 - accuracy: 0.9982 - val_loss: 0.0545 - val_accuracy: 0.9912\n",
      "Epoch 30/32\n",
      "48000/48000 [==============================] - 208s 4ms/step - loss: 0.0034 - accuracy: 0.9989 - val_loss: 0.0483 - val_accuracy: 0.9915\n",
      "Epoch 31/32\n",
      "48000/48000 [==============================] - 229s 5ms/step - loss: 0.0045 - accuracy: 0.9985 - val_loss: 0.0481 - val_accuracy: 0.9913\n",
      "Epoch 32/32\n",
      "48000/48000 [==============================] - 277s 6ms/step - loss: 0.0046 - accuracy: 0.9985 - val_loss: 0.0581 - val_accuracy: 0.9903\n",
      "[0.04179718715916751, 0.9908000230789185]\n"
     ]
    }
   ],
   "source": [
    "#编译模型\n",
    "#使用categorical_crossentropy作为该模型的成本函数\n",
    "model.compile(loss='categorical_crossentropy', optimizer='adam', metrics=['accuracy'])\n",
    "#使用fit()进行训练，拟合训练数据和类别，设置迭代次数32和批处理大小200\n",
    "history=model.fit(XTrain, yTrain, epochs=32, batch_size=200, validation_split=0.2)\n",
    "#对模型进行评估以确保不会出现数据过拟合的情况\n",
    "scores = model.evaluate(XTest, yTest, verbose=10)\n",
    "print(scores)"
   ]
  },
  {
   "cell_type": "code",
   "execution_count": 18,
   "metadata": {},
   "outputs": [
    {
     "data": {
      "image/png": "[encoded data removed]",
      "text/plain": [
       "<Figure size 864x432 with 1 Axes>"
      ]
     },
     "metadata": {},
     "output_type": "display_data"
    }
   ],
   "source": [
    "import matplotlib.pyplot as plt\n",
    "%matplotlib inline\n",
    "fig, ax = plt.subplots(figsize=(12,6))\n",
    "gen = ax.plot(history.history['val_accuracy'], label='Validation Accuracy')\n",
    "fr = ax.plot(history.history['accuracy'],dashes=[6, 2], label='Training Accuracy')\n",
    "legend = ax.legend(loc='lower center', shadow=True)\n",
    "plt.show()"
   ]
  },
  {
   "cell_type": "code",
   "execution_count": null,
   "metadata": {},
   "outputs": [],
   "source": []
  },
  {
   "cell_type": "code",
   "execution_count": null,
   "metadata": {},
   "outputs": [],
   "source": []
  }
 ],
 "metadata": {
  "kernelspec": {
   "display_name": "Python 3",
   "language": "python",
   "name": "python3"
  },
  "language_info": {
   "codemirror_mode": {
    "name": "ipython",
    "version": 3
   },
   "file_extension": ".py",
   "mimetype": "text/x-python",
   "name": "python",
   "nbconvert_exporter": "python",
   "pygments_lexer": "ipython3",
   "version": "3.6.5"
  }
 },
 "nbformat": 4,
 "nbformat_minor": 2
}
